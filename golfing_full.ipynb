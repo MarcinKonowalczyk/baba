{
 "cells": [
  {
   "cell_type": "code",
   "execution_count": 1,
   "metadata": {},
   "outputs": [],
   "source": [
    "PROPERTIES = ('y','p','n')\n",
    "NOUNS = ('b','w','f','r')\n",
    "ENTITIES = ('B','W','F','R')\n",
    "\n",
    "isproperty = lambda symbol: symbol in PROPERTIES\n",
    "isnoun = lambda symbol: symbol in NOUNS\n",
    "isentity = lambda symbol: symbol in ENTITIES\n",
    "isempty = lambda cell: cell=='.'"
   ]
  },
  {
   "cell_type": "code",
   "execution_count": 2,
   "metadata": {},
   "outputs": [],
   "source": [
    "# Grid transformations\n",
    "def transpose(grid):\n",
    "    return [list(col) for col in zip(*grid)]\n",
    "\n",
    "def fliplr(grid):\n",
    "    return [list(reversed(row)) for row in grid]\n",
    "\n",
    "def rotate_p90(grid):\n",
    "    ''' Rotate grid 90 deg clockwise '''\n",
    "    return fliplr(transpose(grid))\n",
    "\n",
    "def rotate_m90(grid):\n",
    "    ''' Rotate grid 90 deg counterclockwise '''\n",
    "    return transpose(fliplr(grid))\n",
    "\n",
    "def rotate_180(grid):\n",
    "    ''' Rotate grid 180 deg '''\n",
    "    return rotate_p90(rotate_p90(grid))\n",
    "\n",
    "rotate_0 = lambda x:x; # Null rotation"
   ]
  },
  {
   "cell_type": "code",
   "execution_count": 3,
   "metadata": {},
   "outputs": [],
   "source": [
    "# Stripped down 'windowed' from more_itertools\n",
    "from collections import deque\n",
    "def each_three(seq):\n",
    "    window = deque(maxlen=3)\n",
    "    i = 3\n",
    "    for _ in map(window.append,seq):\n",
    "        i -= 1\n",
    "        if not i:\n",
    "            i = 1\n",
    "            yield tuple(window)\n",
    "\n",
    "def rulefinder(grid):\n",
    "    ''' Find all the rules in the grid '''\n",
    "    N, M = len(grid), len(grid[0])\n",
    "    rules = [];\n",
    "\n",
    "    isis = lambda symbol: symbol=='i'\n",
    "    # Check every candidate against the grammar\n",
    "    # Noun is (Noun OR Property)\n",
    "    isrule = lambda t:(\n",
    "        isnoun(t[0]) and isis(t[1]) and\n",
    "        (isnoun(t[2]) or isproperty(t[2])))\n",
    "\n",
    "    # Horizontal rules\n",
    "    if M>=3:\n",
    "        for row in grid:\n",
    "            for t in each_three(row):\n",
    "                if isrule(t):\n",
    "                    rules.append((t[0],t[2]))\n",
    "\n",
    "    # Vertical rules\n",
    "    if N>=3:\n",
    "        for col in zip(*grid):\n",
    "            for t in each_three(col):\n",
    "                if isrule(t):\n",
    "                    rules.append((t[0],t[2]))\n",
    "    return rules"
   ]
  },
  {
   "cell_type": "code",
   "execution_count": 4,
   "metadata": {},
   "outputs": [],
   "source": [
    "def make_behaviour(you=False,push=False,win=False):\n",
    "    ''' Helper to make a behaviour '''\n",
    "    return dict(zip(PROPERTIES,(you,push,win)))\n",
    "    \n",
    "def ruleparser(rules):\n",
    "    ''' Parse valid rules into behaviours and swaps '''\n",
    "\n",
    "    behaviours = {noun:(make_behaviour()) for noun in NOUNS}\n",
    "    swaps = []\n",
    "\n",
    "    # Parse the rules\n",
    "    for subject, action in rules:\n",
    "        # Noun is (Noun OR Property)\n",
    "        if isproperty(action): # Noun is a Property\n",
    "            behaviours[subject][action] = True\n",
    "        else: # (Noun is Noun)\n",
    "            swaps.append((subject,action))\n",
    "\n",
    "    return behaviours, swaps"
   ]
  },
  {
   "cell_type": "code",
   "execution_count": 5,
   "metadata": {},
   "outputs": [],
   "source": [
    "class UnableToMove(Exception):\n",
    "    pass\n",
    "\n",
    "def attempt_to_move(pile,behaviours):\n",
    "    ''' Attempt to move a pile of cells in accordance with their behaviour '''\n",
    "    \n",
    "    if len(pile)==0: # Empty pile\n",
    "        raise UnableToMove\n",
    "    \n",
    "    if isempty(pile[0]): # Trivial pile\n",
    "        return pile\n",
    "    elif len(pile)==1: # One-element pile\n",
    "        raise UnableToMove\n",
    "\n",
    "    # Larger pile\n",
    "    istext = lambda symbol: symbol in (*PROPERTIES,*NOUNS,'i')\n",
    "    pushable = lambda cell: (isentity(cell) and behaviours[cell.lower()]['p']) or istext(cell)\n",
    "    if not pushable(pile[0]):\n",
    "        raise UnableToMove\n",
    "\n",
    "    if isempty(pile[1]):\n",
    "        return (pile[1], pile[0], *pile[2:])\n",
    "    else:\n",
    "        budged = attempt_to_move(pile[1:],behaviours)\n",
    "        return (budged[0], pile[0], *budged[1:])"
   ]
  },
  {
   "cell_type": "code",
   "execution_count": 6,
   "metadata": {},
   "outputs": [],
   "source": [
    "STEPS = ('^','V','<','>')\n",
    "\n",
    "# Rotations and counter rotations which need to be applied to the grid such that the move directioisempty\n",
    "rots = (rotate_0, rotate_180, rotate_p90, rotate_m90)\n",
    "rots = dict(zip(STEPS,rots))\n",
    "crots = (rotate_0, rotate_180, rotate_m90, rotate_p90)\n",
    "crots = dict(zip(STEPS,crots))\n",
    "\n",
    "class YouWin(Exception):\n",
    "    pass\n",
    "\n",
    "def timestep(grid,behaviours,step):\n",
    "    ''' Advance grid a single timestep, given the step and the current behaviours '''\n",
    "    grid = rots[step](grid)\n",
    "    new_grid = [['.' for _ in row] for row in grid]\n",
    "\n",
    "    isyou = lambda cell: isentity(cell) and behaviours[cell.lower()]['y']\n",
    "    iswin = lambda cell: isentity(cell) and behaviours[cell.lower()]['n']\n",
    "\n",
    "    for j,row in enumerate(grid):\n",
    "        for k,cell in enumerate(row):\n",
    "            if not isyou(cell):\n",
    "                new_grid[j][k] = cell;\n",
    "                continue\n",
    "\n",
    "            # Attempt to move\n",
    "            pile = [new_grid[l][k] for l in reversed(range(j))]\n",
    "            try:\n",
    "                shifted_pile = attempt_to_move(pile,behaviours)\n",
    "                for l,elem in enumerate(reversed(shifted_pile)):\n",
    "                    new_grid[l][k] = elem\n",
    "\n",
    "                new_grid[j-1][k] = cell;\n",
    "            except UnableToMove:\n",
    "                if len(pile)>0  and iswin(pile[0]):\n",
    "                    raise YouWin\n",
    "\n",
    "                new_grid[j][k] = cell;\n",
    "\n",
    "    new_grid = crots[step](new_grid)\n",
    "    return new_grid"
   ]
  },
  {
   "cell_type": "code",
   "execution_count": 7,
   "metadata": {},
   "outputs": [],
   "source": [
    "def swap(grid,swaps):\n",
    "    ''' Apply all the swaps to the grid '''\n",
    "    new_grid = [[cell for cell in row] for row in grid]\n",
    "    for a,b in swaps:\n",
    "        for j,row in enumerate(grid):\n",
    "            for k,cell in enumerate(row):\n",
    "                if isentity(cell) and cell.lower()==a:\n",
    "                    new_grid[j][k] = b.upper()\n",
    "\n",
    "    return new_grid"
   ]
  },
  {
   "cell_type": "code",
   "execution_count": 8,
   "metadata": {},
   "outputs": [],
   "source": [
    "def play(sequence):\n",
    "    ''' Play a game, given the sequence of moves '''\n",
    "    \n",
    "    grid = '.............|.rip....RRR..|.......R...R.|.biy.B.R.F.R.|.......R...R.|.fin....RRR..|.............'\n",
    "    grid = [[cell for cell in row] for row in grid.split('|')]\n",
    "\n",
    "    try:\n",
    "        for step in (*sequence,None):\n",
    "            rules = rulefinder(grid)\n",
    "            behaviours, swaps = ruleparser(rules)\n",
    "\n",
    "            # Check for you is win condition\n",
    "            for noun in behaviours:\n",
    "                if behaviours[noun]['y'] and behaviours[noun]['n']:\n",
    "                    raise YouWin\n",
    "\n",
    "            # Do the swap\n",
    "            grid = swap(grid,swaps)\n",
    "            if step:\n",
    "                grid = timestep(grid,behaviours,step)\n",
    "    except YouWin:\n",
    "        return 1\n",
    "    else:\n",
    "        return 0"
   ]
  },
  {
   "cell_type": "code",
   "execution_count": 9,
   "metadata": {},
   "outputs": [
    {
     "output_type": "execute_result",
     "data": {
      "text/plain": "1"
     },
     "metadata": {},
     "execution_count": 9
    }
   ],
   "source": [
    "sequence = '<^^^<<V^>>VV<<>>'\n",
    "# sequence = '>>^>>V'\n",
    "play(sequence)"
   ]
  },
  {
   "cell_type": "code",
   "execution_count": 11,
   "metadata": {},
   "outputs": [
    {
     "output_type": "stream",
     "name": "stdout",
     "text": "---\nSequence: >>^>>V\nOutcome: 1 (1)\n---\nSequence: <^<V\nOutcome: 0 (0)\n---\nSequence: <^^^<<V^>>VV<<>>\nOutcome: 1 (1)\n"
    }
   ],
   "source": [
    "tests = (('>>^>>V',1),('<^<V',0),('<^^^<<V^>>VV<<>>',1))\n",
    "for sequence,expected in tests:\n",
    "    outcome = play(sequence)\n",
    "    print(f'---\\nSequence: {sequence}\\nOutcome: {outcome} ({expected})')"
   ]
  },
  {
   "cell_type": "code",
   "execution_count": null,
   "metadata": {},
   "outputs": [],
   "source": []
  }
 ],
 "metadata": {
  "language_info": {
   "codemirror_mode": {
    "name": "ipython",
    "version": 3
   },
   "file_extension": ".py",
   "mimetype": "text/x-python",
   "name": "python",
   "nbconvert_exporter": "python",
   "pygments_lexer": "ipython3",
   "version": "3.7.4-final"
  },
  "orig_nbformat": 2,
  "kernelspec": {
   "name": "python3",
   "display_name": "Python 3"
  }
 },
 "nbformat": 4,
 "nbformat_minor": 2
}