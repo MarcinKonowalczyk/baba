{
 "cells": [
  {
   "cell_type": "code",
   "execution_count": 2,
   "metadata": {},
   "outputs": [],
   "source": [
    "from more_itertools import flatten\n",
    "\n",
    "import os, sys\n",
    "sys.path.append(os.path.realpath('..'))\n",
    "from baba.utils import *\n",
    "from baba.play import timestep, swap, YouWin\n",
    "from animate import *"
   ]
  },
  {
   "cell_type": "code",
   "execution_count": 3,
   "metadata": {},
   "outputs": [],
   "source": [
    "grid = default_grid() # Play on the default grid\n",
    "sequence = '<^^^<<V^>>VV<<>>'\n",
    "images = animate_play(grid,sequence)"
   ]
  },
  {
   "cell_type": "code",
   "execution_count": 8,
   "metadata": {},
   "outputs": [
    {
     "output_type": "display_data",
     "data": {
      "text/plain": "<PIL.Image.Image image mode=RGBA size=312x168 at 0x114DC6510>",
      "image/png": "[encoded data removed]"
     },
     "metadata": {}
    },
    {
     "output_type": "display_data",
     "data": {
      "text/plain": "<PIL.Image.Image image mode=RGBA size=312x168 at 0x114DB8ED0>",
      "image/png": "[encoded data removed]"
     },
     "metadata": {}
    }
   ],
   "source": [
    "from IPython.display import display\n",
    "display(images[0], images[-1])"
   ]
  },
  {
   "cell_type": "code",
   "execution_count": null,
   "metadata": {},
   "outputs": [],
   "source": [
    "## Draw all the example sequences\n",
    "todraw = (\n",
    "    ('>>^>>V','fastest_win'),\n",
    "    ('<^<V','fastest_loss'),\n",
    "    ('<^^^<<V^>>VV<<>>','rock_is_baba'))\n",
    "for sequence,filename in todraw:\n",
    "    grid = default_grid() # Play on the default grid\n",
    "    images = animate_play(grid,sequence)\n",
    "    images[0].save(f'{filename}.gif',save_all=True,append_images=images[1:],\n",
    "                   duration=300,loop=0)"
   ]
  },
  {
   "cell_type": "code",
   "execution_count": 4,
   "metadata": {},
   "outputs": [],
   "source": []
  },
  {
   "cell_type": "code",
   "execution_count": null,
   "metadata": {},
   "outputs": [],
   "source": []
  },
  {
   "cell_type": "code",
   "execution_count": null,
   "metadata": {},
   "outputs": [],
   "source": []
  }
 ],
 "metadata": {
  "language_info": {
   "codemirror_mode": {
    "name": "ipython",
    "version": 3
   },
   "file_extension": ".py",
   "mimetype": "text/x-python",
   "name": "python",
   "nbconvert_exporter": "python",
   "pygments_lexer": "ipython3",
   "version": "3.7.4-final"
  },
  "orig_nbformat": 2,
  "kernelspec": {
   "name": "python3",
   "display_name": "Python 3"
  }
 },
 "nbformat": 4,
 "nbformat_minor": 2
}