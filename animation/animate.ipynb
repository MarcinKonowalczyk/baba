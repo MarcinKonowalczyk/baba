{
 "cells": [
  {
   "cell_type": "code",
   "execution_count": 1,
   "metadata": {},
   "outputs": [],
   "source": [
    "import os, sys\n",
    "sys.path.append(os.path.realpath('..'))\n",
    "from baba.utils import default_grid\n",
    "from animate import *"
   ]
  },
  {
   "cell_type": "code",
   "execution_count": 44,
   "metadata": {},
   "outputs": [
    {
     "output_type": "display_data",
     "data": {
      "text/plain": "<PIL.Image.Image image mode=RGBA size=312x168 at 0x12232FB50>",
      "image/png": "[encoded data removed]"
     },
     "metadata": {}
    }
   ],
   "source": [
    "grid = default_grid() # Play on the default grid\n",
    "sequence = '<^<<<<V>>^<<^^>>VV<V>V>>VV<<^V<<^>^^^<^>^>VV>V<V<V>^^>V>V>>>^^<<'\n",
    "images = animate_play(grid,sequence)\n",
    "\n",
    "from IPython.display import display\n",
    "# display(images[0], images[-1])\n",
    "display(images[-1])"
   ]
  },
  {
   "cell_type": "code",
   "execution_count": 46,
   "metadata": {
    "tags": []
   },
   "outputs": [
    {
     "output_type": "stream",
     "name": "stdout",
     "text": "done: fastest_win\ndone: fastest_loss\ndone: baba_is_win\ndone: rock_is_baba\ndone: rock_is_you\ndone: rock_is_win\ndone: rock_is_win_and_push\ndone: lose_as_flag\ndone: iss_dont_chain_through_properties\ndone: iss_chain_through_nouns\ndone: rules_dont_work_upside_down\ndone: rules_dont_work_right_to_left\ndone: rules_act_alphabetically_1\ndone: rules_act_alphabetically_2\ndone: everything_is_flag\ndone: lose_as_starship_enterprise\n"
    }
   ],
   "source": [
    "## Draw all the example sequences\n",
    "todraw = (\n",
    "    ('>>^>>V','fastest_win'),\n",
    "    ('<^<V','fastest_loss'),\n",
    "    ('<VV<V<<^V>>^<','baba_is_win'),\n",
    "    ('<^^^<<V>V<>>','rock_is_baba'),\n",
    "    ('<^^^<<V^<<VV>><<^>><<','rock_is_you'),\n",
    "    ('<VVV<^<^>V>^^V<<<<^^^>^>>>>VVV<^>>>','rock_is_win'),\n",
    "    ('<^<<<<V>>>V>VV<<^^^>^<VV>>V<V<^^>^<V>>>>>>>V<^^^^>^<<<<<<<<<','rock_is_win_and_push'),\n",
    "    ('<V<<<<V>>V>^^','lose_as_flag'),\n",
    "    ('<V<<<<V>>V>>^^VV>^^','iss_dont_chain_through_properties'),\n",
    "    ('<V<<V^<V>>>^^<^>^^<<V^<<VV>>>^>VVVV^^^<<<<^>>^>VVVV>>V^<<V>>^^>>','iss_chain_through_nouns'),\n",
    "    ('<V<<<<V>>V>>>^V<<<^>V>>^V<<^>V>>^^^>>^>>V','rules_dont_work_upside_down'),\n",
    "    ('<V<<<<V>>V>>>^V<<<^>V>>^V<<^>><^^^>V>V<^<V<VV>>>>^<<<>^^>>^>>V','rules_dont_work_right_to_left'),\n",
    "    ('<^<<<<V>>^<<^^>>V^<<VV>>^><V><V><<<VVV>^^<^>>V>^^<^>VVV>VV<<^^^<^>V>^<^>><<V<<^>>>>>V<^<VV<<','rules_act_alphabetically_1'),\n",
    "    ('<^<<<<V>>^<<^^>>VV<V>V>>VV<<^V<<^>^^^<^>^>VV>V<V<V>^^>V>V>>>^^<<','rules_act_alphabetically_2'),\n",
    "    ('<^^^<<V^<<V><VVVVV>>^V<<^>^<^><','everything_is_flag'),\n",
    "    ('<^^^<<V^<<V>>>><<<V>>><<<<VVVV>>^V<<<^^>>>><<<<V>>>><<<<^^>>>><','lose_as_starship_enterprise'))\n",
    "for sequence,filename in todraw:\n",
    "    grid = default_grid() # Play on the default grid\n",
    "    images = animate_play(grid,sequence)\n",
    "    duration = 250 if len(sequence)<20 else 150 # Make long sequences go faster\n",
    "    images[0].save(f'{filename}.gif',save_all=True,append_images=images[1:],\n",
    "                   duration=duration,loop=0)\n",
    "    print('done:',filename)"
   ]
  },
  {
   "cell_type": "code",
   "execution_count": null,
   "metadata": {},
   "outputs": [],
   "source": []
  }
 ],
 "metadata": {
  "language_info": {
   "codemirror_mode": {
    "name": "ipython",
    "version": 3
   },
   "file_extension": ".py",
   "mimetype": "text/x-python",
   "name": "python",
   "nbconvert_exporter": "python",
   "pygments_lexer": "ipython3",
   "version": "3.7.4-final"
  },
  "orig_nbformat": 2,
  "kernelspec": {
   "name": "python3",
   "display_name": "Python 3"
  }
 },
 "nbformat": 4,
 "nbformat_minor": 2
}