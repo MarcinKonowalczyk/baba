{
 "cells": [
  {
   "cell_type": "code",
   "execution_count": 1,
   "metadata": {},
   "outputs": [],
   "source": [
    "import os, sys\n",
    "sys.path.append(os.path.realpath('..'))\n",
    "from baba.utils import default_grid\n",
    "from animate import *"
   ]
  },
  {
   "cell_type": "code",
   "execution_count": 9,
   "metadata": {},
   "outputs": [
    {
     "data": {
      "image/png": "[encoded data removed]",
      "text/plain": [
       "<PIL.Image.Image image mode=RGBA size=312x168 at 0x10BC89F90>"
      ]
     },
     "metadata": {},
     "output_type": "display_data"
    }
   ],
   "source": [
    "grid = default_grid() # Play on the default grid\n",
    "sequence = '>>V>V<<<V<<<^V<<^><^^^^^>>V^<<V><VV><'\n",
    "images = animate_play(grid,sequence)\n",
    "\n",
    "from IPython.display import display\n",
    "# display(images[0], images[-1])\n",
    "display(images[-1])"
   ]
  },
  {
   "cell_type": "code",
   "execution_count": 10,
   "metadata": {
    "tags": []
   },
   "outputs": [
    {
     "name": "stdout",
     "output_type": "stream",
     "text": [
      "done: fastest_win\n",
      "done: fastest_loss\n",
      "done: baba_is_win\n",
      "done: rock_is_baba\n",
      "done: rock_is_you\n",
      "done: rock_is_win\n",
      "done: rock_is_win_and_push\n",
      "done: lose_as_flag\n",
      "done: iss_dont_chain_through_properties\n",
      "done: iss_chain_through_nouns\n",
      "done: rules_dont_work_upside_down\n",
      "done: rules_dont_work_right_to_left\n",
      "done: rules_act_alphabetically_1\n",
      "done: rules_act_alphabetically_2\n",
      "done: everything_is_flag\n",
      "done: lose_as_starship_enterprise\n",
      "done: rock_is_baba_is_win\n"
     ]
    }
   ],
   "source": [
    "## Draw all the example sequences\n",
    "todraw = (\n",
    "    ('>>^>>V','fastest_win'),\n",
    "    ('<^<V','fastest_loss'),\n",
    "    ('<VV<V<<^V>>^<','baba_is_win'),\n",
    "    ('<^^^<<V>V<>>','rock_is_baba'),\n",
    "    ('<^^^<<V^<<VV>><<^>><<','rock_is_you'),\n",
    "    ('<VVV<^<^>V>^^V<<<<^^^>^>>>>VVV<^>>>','rock_is_win'),\n",
    "    ('<^<<<<V>>>V>VV<<^^^>^<VV>>V<V<^^>^<V>>>>>>>V<^^^^>^<<<<<<<<<','rock_is_win_and_push'),\n",
    "    ('<V<<<<V>>V>^^','lose_as_flag'),\n",
    "    ('<V<<<<V>>V>>^^VV>^^','iss_dont_chain_through_properties'),\n",
    "    ('<V<<V^<V>>>^^<^>^^<<V^<<VV>>>^>VVVV^^^<<<<^>>^>VVVV>>V^<<V>>^^>>','iss_chain_through_nouns'),\n",
    "    ('<V<<<<V>>V>>>^V<<<^>V>>^V<<^>V>>^^^>>^>>V','rules_dont_work_upside_down'),\n",
    "    ('<V<<<<V>>V>>>^V<<<^>V>>^V<<^>><^^^>V>V<^<V<VV>>>>^<<<>^^>>^>>V','rules_dont_work_right_to_left'),\n",
    "    ('<^<<<<V>>^<<^^>>V^<<VV>>^><V><V><<<VVV>^^<^>>V>^^<^>VVV>VV<<^^^<^>V>^<^>><<V<<^>>>>>V<^<VV<<','rules_act_alphabetically_1'),\n",
    "    ('<^<<<<V>>^<<^^>>VV<V>V>>VV<<^V<<^>^^^<^>^>VV>V<V<V>^^>V>V>>>^^<<','rules_act_alphabetically_2'),\n",
    "    ('<^^^<<V^<<V><VVVVV>>^V<<^>^<^><','everything_is_flag'),\n",
    "    ('<^^^<<V^<<V>>>><<<V>>><<<<VVVV>>^V<<<^^>>>><<<<V>>>><<<<^^>>>><','lose_as_starship_enterprise'),\n",
    "    ('>>V>V<<<V<<<^V<<^><^^^^^>>V^<<V><VV><','rock_is_baba_is_win'))\n",
    "for sequence,filename in todraw:\n",
    "    grid = default_grid() # Play on the default grid\n",
    "    images = animate_play(grid,sequence)\n",
    "    duration = 250 if len(sequence)<20 else 150 # Make long sequences go faster\n",
    "    images[0].save(f'{filename}.gif',save_all=True,append_images=images[1:],\n",
    "                   duration=duration,loop=0)\n",
    "    print('done:',filename)"
   ]
  },
  {
   "cell_type": "code",
   "execution_count": null,
   "metadata": {},
   "outputs": [],
   "source": []
  }
 ],
 "metadata": {
  "kernelspec": {
   "display_name": "Python 3",
   "language": "python",
   "name": "python3"
  },
  "language_info": {
   "codemirror_mode": {
    "name": "ipython",
    "version": 3
   },
   "file_extension": ".py",
   "mimetype": "text/x-python",
   "name": "python",
   "nbconvert_exporter": "python",
   "pygments_lexer": "ipython3",
   "version": "3.7.4"
  }
 },
 "nbformat": 4,
 "nbformat_minor": 2
}
